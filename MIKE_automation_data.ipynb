{
  "nbformat": 4,
  "nbformat_minor": 0,
  "metadata": {
    "colab": {
      "provenance": []
    },
    "kernelspec": {
      "name": "python3",
      "display_name": "Python 3"
    },
    "language_info": {
      "name": "python"
    }
  },
  "cells": [
    {
      "cell_type": "code",
      "execution_count": null,
      "metadata": {
        "colab": {
          "base_uri": "https://localhost:8080/"
        },
        "id": "OiJOzzJCu1le",
        "outputId": "3545ad89-4dc2-4f50-e83c-696047822512"
      },
      "outputs": [
        {
          "output_type": "stream",
          "name": "stdout",
          "text": [
            "Mounted at /content/drive/\n"
          ]
        }
      ],
      "source": [
        "from google.colab import drive\n",
        "\n",
        "drive.mount(\"/content/drive/\")"
      ]
    },
    {
      "cell_type": "code",
      "source": [
        "!pip install mikeio==1.4.0"
      ],
      "metadata": {
        "colab": {
          "base_uri": "https://localhost:8080/"
        },
        "id": "EyIwqyoT1WP1",
        "outputId": "191534ba-1ab5-4029-a674-d849eecfd1d0"
      },
      "execution_count": null,
      "outputs": [
        {
          "output_type": "stream",
          "name": "stdout",
          "text": [
            "Looking in indexes: https://pypi.org/simple, https://us-python.pkg.dev/colab-wheels/public/simple/\n",
            "Collecting mikeio==1.4.0\n",
            "  Downloading mikeio-1.4.0-py3-none-any.whl (147 kB)\n",
            "\u001b[2K     \u001b[90m━━━━━━━━━━━━━━━━━━━━━━━━━━━━━━━━━━━━━━━\u001b[0m \u001b[32m147.2/147.2 kB\u001b[0m \u001b[31m5.0 MB/s\u001b[0m eta \u001b[36m0:00:00\u001b[0m\n",
            "\u001b[?25hCollecting mikecore>=0.2.1 (from mikeio==1.4.0)\n",
            "  Downloading mikecore-0.2.1-py3-none-any.whl (17.1 MB)\n",
            "\u001b[2K     \u001b[90m━━━━━━━━━━━━━━━━━━━━━━━━━━━━━━━━━━━━━━━━\u001b[0m \u001b[32m17.1/17.1 MB\u001b[0m \u001b[31m10.7 MB/s\u001b[0m eta \u001b[36m0:00:00\u001b[0m\n",
            "\u001b[?25hRequirement already satisfied: numpy>=1.15.0 in /usr/local/lib/python3.10/dist-packages (from mikeio==1.4.0) (1.22.4)\n",
            "Requirement already satisfied: pandas>1.3 in /usr/local/lib/python3.10/dist-packages (from mikeio==1.4.0) (1.5.3)\n",
            "Requirement already satisfied: pyyaml in /usr/local/lib/python3.10/dist-packages (from mikeio==1.4.0) (6.0)\n",
            "Requirement already satisfied: scipy>1.0 in /usr/local/lib/python3.10/dist-packages (from mikeio==1.4.0) (1.10.1)\n",
            "Requirement already satisfied: tqdm in /usr/local/lib/python3.10/dist-packages (from mikeio==1.4.0) (4.65.0)\n",
            "Requirement already satisfied: xarray in /usr/local/lib/python3.10/dist-packages (from mikeio==1.4.0) (2022.12.0)\n",
            "Requirement already satisfied: python-dateutil>=2.8.1 in /usr/local/lib/python3.10/dist-packages (from pandas>1.3->mikeio==1.4.0) (2.8.2)\n",
            "Requirement already satisfied: pytz>=2020.1 in /usr/local/lib/python3.10/dist-packages (from pandas>1.3->mikeio==1.4.0) (2022.7.1)\n",
            "Requirement already satisfied: packaging>=21.3 in /usr/local/lib/python3.10/dist-packages (from xarray->mikeio==1.4.0) (23.1)\n",
            "Requirement already satisfied: six>=1.5 in /usr/local/lib/python3.10/dist-packages (from python-dateutil>=2.8.1->pandas>1.3->mikeio==1.4.0) (1.16.0)\n",
            "Installing collected packages: mikecore, mikeio\n",
            "Successfully installed mikecore-0.2.1 mikeio-1.4.0\n"
          ]
        }
      ]
    },
    {
      "cell_type": "code",
      "source": [
        "import os\n",
        "import pandas as pd\n",
        "import matplotlib.pyplot as plt\n",
        "import numpy as np\n",
        "import mikeio\n",
        "from mikeio import ItemInfo, EUMType, EUMUnit\n",
        "from datetime import datetime"
      ],
      "metadata": {
        "id": "Z-DD3gdUwyOf"
      },
      "execution_count": null,
      "outputs": []
    },
    {
      "cell_type": "code",
      "source": [
        "parent = \"drive/MyDrive/Workstation/mikeAuto/\"\n",
        "paths = [parent+i for i in os.listdir(parent) if i[0]==\"3\"]\n",
        "paths"
      ],
      "metadata": {
        "colab": {
          "base_uri": "https://localhost:8080/"
        },
        "id": "aB8DzWf71gvl",
        "outputId": "a6e06a22-3d7e-422f-fc55-0d1d4435f6a0"
      },
      "execution_count": null,
      "outputs": [
        {
          "output_type": "execute_result",
          "data": {
            "text/plain": [
              "['drive/MyDrive/Workstation/mikeAuto/3-Hourly Rainfall.xlsx',\n",
              " 'drive/MyDrive/Workstation/mikeAuto/3-Hourly Wind Sp. & Dir..xlsx']"
            ]
          },
          "metadata": {},
          "execution_count": 4
        }
      ]
    },
    {
      "cell_type": "code",
      "source": [
        "if not os.path.exists(parent+\"mikeAuto/\"):\n",
        "  os.mkdir(parent+\"mikeAuto/\")\n",
        "\n",
        "output = parent+\"mikeAuto/\""
      ],
      "metadata": {
        "id": "1RJaiqIEKTmC"
      },
      "execution_count": null,
      "outputs": []
    },
    {
      "cell_type": "code",
      "source": [
        "wind = pd.read_excel(paths[1])\n",
        "rain = pd.read_excel(paths[0])\n",
        "\n",
        "wind.tail()"
      ],
      "metadata": {
        "id": "xZFqsIQZ16il",
        "colab": {
          "base_uri": "https://localhost:8080/",
          "height": 317
        },
        "outputId": "bb66378f-0f24-4759-8114-42aaa48aaf6d"
      },
      "execution_count": null,
      "outputs": [
        {
          "output_type": "execute_result",
          "data": {
            "text/plain": [
              "    Unnamed: 0 Unnamed: 1 Unnamed: 2 Unnamed: 3 Unnamed: 4 Unnamed: 5  \\\n",
              "488      12103       2022         12          9          2         27   \n",
              "489      12103       2022         12         12          0          0   \n",
              "490      12103       2022         12         15          0          0   \n",
              "491      12103       2022         12         18          0          0   \n",
              "492      12103       2022         12         21          0          0   \n",
              "\n",
              "    Unnamed: 6 Unnamed: 7 Unnamed: 8 Unnamed: 9  ... Unnamed: 56 Unnamed: 57  \\\n",
              "488          4         36          4         31  ...           3          26   \n",
              "489          0          0          0          0  ...           0           0   \n",
              "490          0          0          0          0  ...           0           0   \n",
              "491          0          0          0          0  ...           0           0   \n",
              "492          0          0          0          0  ...           0           0   \n",
              "\n",
              "    Unnamed: 58 Unnamed: 59 Unnamed: 60 Unnamed: 61 Unnamed: 62 Unnamed: 63  \\\n",
              "488           1          36           4          31           4          27   \n",
              "489           0           0           0           0           0           0   \n",
              "490           0           0           0           0           0           0   \n",
              "491           2          33           0           0           0           0   \n",
              "492           6          36           0           0           0           0   \n",
              "\n",
              "    Unnamed: 64 Unnamed: 65  \n",
              "488           2          36  \n",
              "489           0           0  \n",
              "490           0           0  \n",
              "491           0           0  \n",
              "492           0           0  \n",
              "\n",
              "[5 rows x 66 columns]"
            ],
            "text/html": [
              "\n",
              "  <div id=\"df-036b3a08-3091-4ee0-a638-391acdebfcd3\">\n",
              "    <div class=\"colab-df-container\">\n",
              "      <div>\n",
              "<style scoped>\n",
              "    .dataframe tbody tr th:only-of-type {\n",
              "        vertical-align: middle;\n",
              "    }\n",
              "\n",
              "    .dataframe tbody tr th {\n",
              "        vertical-align: top;\n",
              "    }\n",
              "\n",
              "    .dataframe thead th {\n",
              "        text-align: right;\n",
              "    }\n",
              "</style>\n",
              "<table border=\"1\" class=\"dataframe\">\n",
              "  <thead>\n",
              "    <tr style=\"text-align: right;\">\n",
              "      <th></th>\n",
              "      <th>Unnamed: 0</th>\n",
              "      <th>Unnamed: 1</th>\n",
              "      <th>Unnamed: 2</th>\n",
              "      <th>Unnamed: 3</th>\n",
              "      <th>Unnamed: 4</th>\n",
              "      <th>Unnamed: 5</th>\n",
              "      <th>Unnamed: 6</th>\n",
              "      <th>Unnamed: 7</th>\n",
              "      <th>Unnamed: 8</th>\n",
              "      <th>Unnamed: 9</th>\n",
              "      <th>...</th>\n",
              "      <th>Unnamed: 56</th>\n",
              "      <th>Unnamed: 57</th>\n",
              "      <th>Unnamed: 58</th>\n",
              "      <th>Unnamed: 59</th>\n",
              "      <th>Unnamed: 60</th>\n",
              "      <th>Unnamed: 61</th>\n",
              "      <th>Unnamed: 62</th>\n",
              "      <th>Unnamed: 63</th>\n",
              "      <th>Unnamed: 64</th>\n",
              "      <th>Unnamed: 65</th>\n",
              "    </tr>\n",
              "  </thead>\n",
              "  <tbody>\n",
              "    <tr>\n",
              "      <th>488</th>\n",
              "      <td>12103</td>\n",
              "      <td>2022</td>\n",
              "      <td>12</td>\n",
              "      <td>9</td>\n",
              "      <td>2</td>\n",
              "      <td>27</td>\n",
              "      <td>4</td>\n",
              "      <td>36</td>\n",
              "      <td>4</td>\n",
              "      <td>31</td>\n",
              "      <td>...</td>\n",
              "      <td>3</td>\n",
              "      <td>26</td>\n",
              "      <td>1</td>\n",
              "      <td>36</td>\n",
              "      <td>4</td>\n",
              "      <td>31</td>\n",
              "      <td>4</td>\n",
              "      <td>27</td>\n",
              "      <td>2</td>\n",
              "      <td>36</td>\n",
              "    </tr>\n",
              "    <tr>\n",
              "      <th>489</th>\n",
              "      <td>12103</td>\n",
              "      <td>2022</td>\n",
              "      <td>12</td>\n",
              "      <td>12</td>\n",
              "      <td>0</td>\n",
              "      <td>0</td>\n",
              "      <td>0</td>\n",
              "      <td>0</td>\n",
              "      <td>0</td>\n",
              "      <td>0</td>\n",
              "      <td>...</td>\n",
              "      <td>0</td>\n",
              "      <td>0</td>\n",
              "      <td>0</td>\n",
              "      <td>0</td>\n",
              "      <td>0</td>\n",
              "      <td>0</td>\n",
              "      <td>0</td>\n",
              "      <td>0</td>\n",
              "      <td>0</td>\n",
              "      <td>0</td>\n",
              "    </tr>\n",
              "    <tr>\n",
              "      <th>490</th>\n",
              "      <td>12103</td>\n",
              "      <td>2022</td>\n",
              "      <td>12</td>\n",
              "      <td>15</td>\n",
              "      <td>0</td>\n",
              "      <td>0</td>\n",
              "      <td>0</td>\n",
              "      <td>0</td>\n",
              "      <td>0</td>\n",
              "      <td>0</td>\n",
              "      <td>...</td>\n",
              "      <td>0</td>\n",
              "      <td>0</td>\n",
              "      <td>0</td>\n",
              "      <td>0</td>\n",
              "      <td>0</td>\n",
              "      <td>0</td>\n",
              "      <td>0</td>\n",
              "      <td>0</td>\n",
              "      <td>0</td>\n",
              "      <td>0</td>\n",
              "    </tr>\n",
              "    <tr>\n",
              "      <th>491</th>\n",
              "      <td>12103</td>\n",
              "      <td>2022</td>\n",
              "      <td>12</td>\n",
              "      <td>18</td>\n",
              "      <td>0</td>\n",
              "      <td>0</td>\n",
              "      <td>0</td>\n",
              "      <td>0</td>\n",
              "      <td>0</td>\n",
              "      <td>0</td>\n",
              "      <td>...</td>\n",
              "      <td>0</td>\n",
              "      <td>0</td>\n",
              "      <td>2</td>\n",
              "      <td>33</td>\n",
              "      <td>0</td>\n",
              "      <td>0</td>\n",
              "      <td>0</td>\n",
              "      <td>0</td>\n",
              "      <td>0</td>\n",
              "      <td>0</td>\n",
              "    </tr>\n",
              "    <tr>\n",
              "      <th>492</th>\n",
              "      <td>12103</td>\n",
              "      <td>2022</td>\n",
              "      <td>12</td>\n",
              "      <td>21</td>\n",
              "      <td>0</td>\n",
              "      <td>0</td>\n",
              "      <td>0</td>\n",
              "      <td>0</td>\n",
              "      <td>0</td>\n",
              "      <td>0</td>\n",
              "      <td>...</td>\n",
              "      <td>0</td>\n",
              "      <td>0</td>\n",
              "      <td>6</td>\n",
              "      <td>36</td>\n",
              "      <td>0</td>\n",
              "      <td>0</td>\n",
              "      <td>0</td>\n",
              "      <td>0</td>\n",
              "      <td>0</td>\n",
              "      <td>0</td>\n",
              "    </tr>\n",
              "  </tbody>\n",
              "</table>\n",
              "<p>5 rows × 66 columns</p>\n",
              "</div>\n",
              "      <button class=\"colab-df-convert\" onclick=\"convertToInteractive('df-036b3a08-3091-4ee0-a638-391acdebfcd3')\"\n",
              "              title=\"Convert this dataframe to an interactive table.\"\n",
              "              style=\"display:none;\">\n",
              "        \n",
              "  <svg xmlns=\"http://www.w3.org/2000/svg\" height=\"24px\"viewBox=\"0 0 24 24\"\n",
              "       width=\"24px\">\n",
              "    <path d=\"M0 0h24v24H0V0z\" fill=\"none\"/>\n",
              "    <path d=\"M18.56 5.44l.94 2.06.94-2.06 2.06-.94-2.06-.94-.94-2.06-.94 2.06-2.06.94zm-11 1L8.5 8.5l.94-2.06 2.06-.94-2.06-.94L8.5 2.5l-.94 2.06-2.06.94zm10 10l.94 2.06.94-2.06 2.06-.94-2.06-.94-.94-2.06-.94 2.06-2.06.94z\"/><path d=\"M17.41 7.96l-1.37-1.37c-.4-.4-.92-.59-1.43-.59-.52 0-1.04.2-1.43.59L10.3 9.45l-7.72 7.72c-.78.78-.78 2.05 0 2.83L4 21.41c.39.39.9.59 1.41.59.51 0 1.02-.2 1.41-.59l7.78-7.78 2.81-2.81c.8-.78.8-2.07 0-2.86zM5.41 20L4 18.59l7.72-7.72 1.47 1.35L5.41 20z\"/>\n",
              "  </svg>\n",
              "      </button>\n",
              "      \n",
              "  <style>\n",
              "    .colab-df-container {\n",
              "      display:flex;\n",
              "      flex-wrap:wrap;\n",
              "      gap: 12px;\n",
              "    }\n",
              "\n",
              "    .colab-df-convert {\n",
              "      background-color: #E8F0FE;\n",
              "      border: none;\n",
              "      border-radius: 50%;\n",
              "      cursor: pointer;\n",
              "      display: none;\n",
              "      fill: #1967D2;\n",
              "      height: 32px;\n",
              "      padding: 0 0 0 0;\n",
              "      width: 32px;\n",
              "    }\n",
              "\n",
              "    .colab-df-convert:hover {\n",
              "      background-color: #E2EBFA;\n",
              "      box-shadow: 0px 1px 2px rgba(60, 64, 67, 0.3), 0px 1px 3px 1px rgba(60, 64, 67, 0.15);\n",
              "      fill: #174EA6;\n",
              "    }\n",
              "\n",
              "    [theme=dark] .colab-df-convert {\n",
              "      background-color: #3B4455;\n",
              "      fill: #D2E3FC;\n",
              "    }\n",
              "\n",
              "    [theme=dark] .colab-df-convert:hover {\n",
              "      background-color: #434B5C;\n",
              "      box-shadow: 0px 1px 3px 1px rgba(0, 0, 0, 0.15);\n",
              "      filter: drop-shadow(0px 1px 2px rgba(0, 0, 0, 0.3));\n",
              "      fill: #FFFFFF;\n",
              "    }\n",
              "  </style>\n",
              "\n",
              "      <script>\n",
              "        const buttonEl =\n",
              "          document.querySelector('#df-036b3a08-3091-4ee0-a638-391acdebfcd3 button.colab-df-convert');\n",
              "        buttonEl.style.display =\n",
              "          google.colab.kernel.accessAllowed ? 'block' : 'none';\n",
              "\n",
              "        async function convertToInteractive(key) {\n",
              "          const element = document.querySelector('#df-036b3a08-3091-4ee0-a638-391acdebfcd3');\n",
              "          const dataTable =\n",
              "            await google.colab.kernel.invokeFunction('convertToInteractive',\n",
              "                                                     [key], {});\n",
              "          if (!dataTable) return;\n",
              "\n",
              "          const docLinkHtml = 'Like what you see? Visit the ' +\n",
              "            '<a target=\"_blank\" href=https://colab.research.google.com/notebooks/data_table.ipynb>data table notebook</a>'\n",
              "            + ' to learn more about interactive tables.';\n",
              "          element.innerHTML = '';\n",
              "          dataTable['output_type'] = 'display_data';\n",
              "          await google.colab.output.renderOutput(dataTable, element);\n",
              "          const docLink = document.createElement('div');\n",
              "          docLink.innerHTML = docLinkHtml;\n",
              "          element.appendChild(docLink);\n",
              "        }\n",
              "      </script>\n",
              "    </div>\n",
              "  </div>\n",
              "  "
            ]
          },
          "metadata": {},
          "execution_count": 6
        }
      ]
    },
    {
      "cell_type": "code",
      "source": [
        "n1 = [1,2,3,4,5]\n",
        "\n",
        "n2 = [6,7,8,9,10]\n",
        "\n",
        "np.concatenate([n1, n2])"
      ],
      "metadata": {
        "colab": {
          "base_uri": "https://localhost:8080/"
        },
        "id": "LdNrRR82-Ftt",
        "outputId": "a1fb8a86-06f6-4390-d8ff-9cc73f4cf945"
      },
      "execution_count": null,
      "outputs": [
        {
          "output_type": "execute_result",
          "data": {
            "text/plain": [
              "array([ 1,  2,  3,  4,  5,  6,  7,  8,  9, 10])"
            ]
          },
          "metadata": {},
          "execution_count": 7
        }
      ]
    },
    {
      "cell_type": "code",
      "source": [
        "[[[3,4,5] for j in range(4)] for i in range(5)]"
      ],
      "metadata": {
        "colab": {
          "base_uri": "https://localhost:8080/"
        },
        "id": "ziBgFaS1BEJR",
        "outputId": "1d4bcf7c-0f4a-47e0-f8b5-edbd8f83f7f1"
      },
      "execution_count": null,
      "outputs": [
        {
          "output_type": "execute_result",
          "data": {
            "text/plain": [
              "[[[3, 4, 5], [3, 4, 5], [3, 4, 5], [3, 4, 5]],\n",
              " [[3, 4, 5], [3, 4, 5], [3, 4, 5], [3, 4, 5]],\n",
              " [[3, 4, 5], [3, 4, 5], [3, 4, 5], [3, 4, 5]],\n",
              " [[3, 4, 5], [3, 4, 5], [3, 4, 5], [3, 4, 5]],\n",
              " [[3, 4, 5], [3, 4, 5], [3, 4, 5], [3, 4, 5]]]"
            ]
          },
          "metadata": {},
          "execution_count": 8
        }
      ]
    },
    {
      "cell_type": "code",
      "source": [
        "data = wind.copy()\n",
        "year = 2022\n",
        "month = 4\n",
        "wn1 = data[data[\"Unnamed: 1\"]==year]\n",
        "wn2 = wn1[wn1[\"Unnamed: 2\"]==month]\n",
        "\n",
        "wn3 = wn2.drop([\"Unnamed: 0\", \"Unnamed: 1\", \"Unnamed: 2\", \"Unnamed: 3\"], axis = 1)\n",
        "\n",
        "#np.concatenate([wn3[i] for i in wn3.columns if (int(i[-1]))%2 == 0])[40:216]\n",
        "\n",
        "wind_speed = np.concatenate([wn3[i] for i in wn3.columns if (int(i[-1]))%2==0])[40:216]\n",
        "\n",
        "#augmented_data = np.ravel([[data[i] for j in range(deltaNumber)] for i in range(len(data))])\n",
        "\n",
        "np.ravel([[wind_speed[i] for j in range(36)] for i in range(len(wind_speed))])"
      ],
      "metadata": {
        "colab": {
          "base_uri": "https://localhost:8080/"
        },
        "id": "igCpLbZf7Ekd",
        "outputId": "3867e831-39f7-42ab-da01-28377d8f3ce5"
      },
      "execution_count": null,
      "outputs": [
        {
          "output_type": "execute_result",
          "data": {
            "text/plain": [
              "array([1, 1, 1, ..., 0, 0, 0])"
            ]
          },
          "metadata": {},
          "execution_count": 9
        }
      ]
    },
    {
      "cell_type": "code",
      "source": [
        "[\"custom\" for i in range(5)]"
      ],
      "metadata": {
        "colab": {
          "base_uri": "https://localhost:8080/"
        },
        "id": "0Wxg8PfAFn8R",
        "outputId": "e61ee4a7-ddfc-4846-bcf5-14af62ed1682"
      },
      "execution_count": null,
      "outputs": [
        {
          "output_type": "execute_result",
          "data": {
            "text/plain": [
              "['custom', 'custom', 'custom', 'custom', 'custom']"
            ]
          },
          "metadata": {},
          "execution_count": 10
        }
      ]
    },
    {
      "cell_type": "code",
      "source": [
        "#pd.to_datetime(list(np.concatenate([list(np.concatenate([[datetime(2022, month,j, i,k, 0) for k in range(0,60,timeDelta)] for i in range(24)])) for j in range(startDate,endDate+1,1)])))\n",
        "\n",
        "\n",
        "\n",
        "pd.to_datetime(list(np.concatenate(np.concatenate([[[datetime(2022, 4,j, i,k, 0) for k in range(0,60,5)] for i in range(24)] for j in range(5,26+1,1)]))))\n"
      ],
      "metadata": {
        "colab": {
          "base_uri": "https://localhost:8080/"
        },
        "id": "QIulBGIhEW9f",
        "outputId": "b8ada1b0-8714-4916-a96e-6f2db0a2d9bf"
      },
      "execution_count": null,
      "outputs": [
        {
          "output_type": "execute_result",
          "data": {
            "text/plain": [
              "DatetimeIndex(['2022-04-05 00:00:00', '2022-04-05 00:05:00',\n",
              "               '2022-04-05 00:10:00', '2022-04-05 00:15:00',\n",
              "               '2022-04-05 00:20:00', '2022-04-05 00:25:00',\n",
              "               '2022-04-05 00:30:00', '2022-04-05 00:35:00',\n",
              "               '2022-04-05 00:40:00', '2022-04-05 00:45:00',\n",
              "               ...\n",
              "               '2022-04-26 23:10:00', '2022-04-26 23:15:00',\n",
              "               '2022-04-26 23:20:00', '2022-04-26 23:25:00',\n",
              "               '2022-04-26 23:30:00', '2022-04-26 23:35:00',\n",
              "               '2022-04-26 23:40:00', '2022-04-26 23:45:00',\n",
              "               '2022-04-26 23:50:00', '2022-04-26 23:55:00'],\n",
              "              dtype='datetime64[ns]', length=6336, freq=None)"
            ]
          },
          "metadata": {},
          "execution_count": 11
        }
      ]
    },
    {
      "cell_type": "code",
      "source": [
        "def select_year_and_month(year, month, data):\n",
        "  wn1 = data[data[\"Unnamed: 1\"]==year]\n",
        "  wn2 = wn1[wn1[\"Unnamed: 2\"]==month]\n",
        "\n",
        "  wn3 = wn2.drop([\"Unnamed: 0\", \"Unnamed: 1\", \"Unnamed: 2\", \"Unnamed: 3\"], axis = 1)\n",
        "\n",
        "  return wn3\n",
        "\n",
        "\n",
        "def inject_data(data, deltaNumber):\n",
        "  augmented_data = np.ravel([[data[i] for j in range(deltaNumber)] for i in range(len(data))])\n",
        "\n",
        "  return augmented_data\n",
        "\n",
        "\n",
        "def datetimeFix(month, startDate, endDate, timeDelta):\n",
        "  return pd.to_datetime(list(np.concatenate([list(np.concatenate([[datetime(2022, month,j, i,k, 0) for k in range(0,60,timeDelta)] for i in range(24)])) for j in range(startDate,endDate+1,1)])))\n",
        "\n"
      ],
      "metadata": {
        "id": "CxloXNFV21_m"
      },
      "execution_count": null,
      "outputs": []
    },
    {
      "cell_type": "code",
      "source": [
        "#print(\"Enter Year:\\n\")\n",
        "#year = int(input())\n",
        "#print(\"\\nEnter Month:\\n\")\n",
        "#month = int(input())\n",
        "year = 2022\n",
        "month = 4\n",
        "\n",
        "wn3 = select_year_and_month(year, month, wind)\n",
        "\n",
        "wind_speed = np.concatenate([wn3[i] for i in wn3.columns if (int(i[-1]))%2 == 0])[40:216]\n",
        "\n",
        "wind_direction = np.concatenate([wn3[i] for i in wn3.columns if (int(i[-1]))%2 != 0])[40:216]\n",
        "\n",
        "\n",
        "augmented_windSpeed = inject_data(wind_speed,36)  # 36 data in 3 hours with 5 minutes time interval\n",
        "\n",
        "augmented_windSpeed_direction = inject_data(wind_direction,36)\n",
        "\n",
        "\n",
        "time = datetimeFix(4, 5, 26, 5)   # 05/04/22 to 26/04/22 with 5 miutes time interval\n",
        "\n",
        "da1 = mikeio.DataArray(data = augmented_windSpeed[96:],time = time[96:], item = EUMType.Wind_speed) # Dataset from 8 am\n",
        "\n",
        "da2 = mikeio.DataArray(data = augmented_windSpeed_direction[96:],time = time[96:], item = EUMType.Wind_Direction)\n",
        "\n",
        "ds = mikeio.Dataset([da1, da2])\n",
        "ds.to_dfs(output+\"wind_forcing_{y}_{m}.dfs0\".format(y = year, m = month))\n",
        "\n",
        "windio = mikeio.read(output+\"wind_forcing_{y}_{m}.dfs0\".format(y = year, m = month))\n",
        "\n",
        "windio"
      ],
      "metadata": {
        "id": "ThsDfHol43b2",
        "colab": {
          "base_uri": "https://localhost:8080/"
        },
        "outputId": "d6306653-de46-47b3-c004-4fb487788182"
      },
      "execution_count": null,
      "outputs": [
        {
          "output_type": "execute_result",
          "data": {
            "text/plain": [
              "<mikeio.Dataset>\n",
              "dims: (time:6240)\n",
              "time: 2022-04-05 08:00:00 - 2022-04-26 23:55:00 (6240 records)\n",
              "geometry: GeometryUndefined()\n",
              "items:\n",
              "  0:  Wind speed <Wind speed> (meter per sec)\n",
              "  1:  Wind Direction <Wind Direction> (degree)"
            ]
          },
          "metadata": {},
          "execution_count": 13
        }
      ]
    },
    {
      "cell_type": "code",
      "source": [
        "windio.Wind_speed.values"
      ],
      "metadata": {
        "colab": {
          "base_uri": "https://localhost:8080/"
        },
        "id": "cqR7PkeenyYV",
        "outputId": "2fe03c28-5754-421f-fca1-8a501f7a32ef"
      },
      "execution_count": null,
      "outputs": [
        {
          "output_type": "execute_result",
          "data": {
            "text/plain": [
              "array([4., 4., 4., ..., 0., 0., 0.])"
            ]
          },
          "metadata": {},
          "execution_count": 33
        }
      ]
    },
    {
      "cell_type": "code",
      "source": [
        "\"wind_forcing_{y}_{m}.dfs0\".format(y = 2022, m = 4)"
      ],
      "metadata": {
        "colab": {
          "base_uri": "https://localhost:8080/",
          "height": 35
        },
        "id": "MpO6E765I_z1",
        "outputId": "8a02e870-7f17-4314-e789-93a126a912f5"
      },
      "execution_count": null,
      "outputs": [
        {
          "output_type": "execute_result",
          "data": {
            "text/plain": [
              "'wind_forcing_2022_4.dfs0'"
            ],
            "application/vnd.google.colaboratory.intrinsic+json": {
              "type": "string"
            }
          },
          "metadata": {},
          "execution_count": 14
        }
      ]
    },
    {
      "cell_type": "code",
      "source": [
        "EUMType.Wind_speed"
      ],
      "metadata": {
        "colab": {
          "base_uri": "https://localhost:8080/"
        },
        "id": "pJB1DX67ITn_",
        "outputId": "03bce00c-ee10-4da5-fd89-f77cdb79a3d9"
      },
      "execution_count": null,
      "outputs": [
        {
          "output_type": "execute_result",
          "data": {
            "text/plain": [
              "Wind speed"
            ]
          },
          "metadata": {},
          "execution_count": 15
        }
      ]
    },
    {
      "cell_type": "code",
      "source": [
        "rain.tail()"
      ],
      "metadata": {
        "id": "J07KhOBdfDD6",
        "colab": {
          "base_uri": "https://localhost:8080/",
          "height": 317
        },
        "outputId": "2bc72d86-d706-48f1-8c6e-8f5b33620751"
      },
      "execution_count": null,
      "outputs": [
        {
          "output_type": "execute_result",
          "data": {
            "text/plain": [
              "    Unnamed: 0 Unnamed: 1 Unnamed: 2 Unnamed: 3  Unnamed: 4  Unnamed: 5  \\\n",
              "487      12103       2022         12          9         0.0         0.0   \n",
              "488      12103       2022         12         12         0.0         0.0   \n",
              "489      12103       2022         12         15         0.0         0.0   \n",
              "490      12103       2022         12         18         0.0         0.0   \n",
              "491      12103       2022         12         21         0.0         0.0   \n",
              "\n",
              "     Unnamed: 6  Unnamed: 7  Unnamed: 8  Unnamed: 9  ...  Unnamed: 25  \\\n",
              "487         0.0         0.0         0.0         0.0  ...          0.0   \n",
              "488         0.0         0.0         0.0         0.0  ...          0.0   \n",
              "489         0.0         0.0         0.0         0.0  ...          0.0   \n",
              "490         0.0         0.0         0.0         0.0  ...          0.0   \n",
              "491         0.0         0.0         0.0         0.0  ...          0.0   \n",
              "\n",
              "     Unnamed: 26  Unnamed: 27  Unnamed: 28  Unnamed: 29  Unnamed: 30  \\\n",
              "487          0.0          0.0          0.0          0.0          0.0   \n",
              "488          0.0          0.0          0.0          0.0          0.0   \n",
              "489          0.0          0.0          0.0          0.0          0.0   \n",
              "490          0.0          0.0          0.0          0.0          0.0   \n",
              "491          0.0          0.0          0.0          0.0          0.0   \n",
              "\n",
              "     Unnamed: 31  Unnamed: 32  Unnamed: 33  Unnamed: 34  \n",
              "487          0.0          0.0          0.0          0.0  \n",
              "488          0.0          0.0          0.0          0.0  \n",
              "489          0.0          0.0          0.0          0.0  \n",
              "490          0.0          0.0          0.0          0.0  \n",
              "491          0.0          0.0          0.0          0.0  \n",
              "\n",
              "[5 rows x 35 columns]"
            ],
            "text/html": [
              "\n",
              "  <div id=\"df-539dba48-eb02-49bb-9fe4-4d03b82d1145\">\n",
              "    <div class=\"colab-df-container\">\n",
              "      <div>\n",
              "<style scoped>\n",
              "    .dataframe tbody tr th:only-of-type {\n",
              "        vertical-align: middle;\n",
              "    }\n",
              "\n",
              "    .dataframe tbody tr th {\n",
              "        vertical-align: top;\n",
              "    }\n",
              "\n",
              "    .dataframe thead th {\n",
              "        text-align: right;\n",
              "    }\n",
              "</style>\n",
              "<table border=\"1\" class=\"dataframe\">\n",
              "  <thead>\n",
              "    <tr style=\"text-align: right;\">\n",
              "      <th></th>\n",
              "      <th>Unnamed: 0</th>\n",
              "      <th>Unnamed: 1</th>\n",
              "      <th>Unnamed: 2</th>\n",
              "      <th>Unnamed: 3</th>\n",
              "      <th>Unnamed: 4</th>\n",
              "      <th>Unnamed: 5</th>\n",
              "      <th>Unnamed: 6</th>\n",
              "      <th>Unnamed: 7</th>\n",
              "      <th>Unnamed: 8</th>\n",
              "      <th>Unnamed: 9</th>\n",
              "      <th>...</th>\n",
              "      <th>Unnamed: 25</th>\n",
              "      <th>Unnamed: 26</th>\n",
              "      <th>Unnamed: 27</th>\n",
              "      <th>Unnamed: 28</th>\n",
              "      <th>Unnamed: 29</th>\n",
              "      <th>Unnamed: 30</th>\n",
              "      <th>Unnamed: 31</th>\n",
              "      <th>Unnamed: 32</th>\n",
              "      <th>Unnamed: 33</th>\n",
              "      <th>Unnamed: 34</th>\n",
              "    </tr>\n",
              "  </thead>\n",
              "  <tbody>\n",
              "    <tr>\n",
              "      <th>487</th>\n",
              "      <td>12103</td>\n",
              "      <td>2022</td>\n",
              "      <td>12</td>\n",
              "      <td>9</td>\n",
              "      <td>0.0</td>\n",
              "      <td>0.0</td>\n",
              "      <td>0.0</td>\n",
              "      <td>0.0</td>\n",
              "      <td>0.0</td>\n",
              "      <td>0.0</td>\n",
              "      <td>...</td>\n",
              "      <td>0.0</td>\n",
              "      <td>0.0</td>\n",
              "      <td>0.0</td>\n",
              "      <td>0.0</td>\n",
              "      <td>0.0</td>\n",
              "      <td>0.0</td>\n",
              "      <td>0.0</td>\n",
              "      <td>0.0</td>\n",
              "      <td>0.0</td>\n",
              "      <td>0.0</td>\n",
              "    </tr>\n",
              "    <tr>\n",
              "      <th>488</th>\n",
              "      <td>12103</td>\n",
              "      <td>2022</td>\n",
              "      <td>12</td>\n",
              "      <td>12</td>\n",
              "      <td>0.0</td>\n",
              "      <td>0.0</td>\n",
              "      <td>0.0</td>\n",
              "      <td>0.0</td>\n",
              "      <td>0.0</td>\n",
              "      <td>0.0</td>\n",
              "      <td>...</td>\n",
              "      <td>0.0</td>\n",
              "      <td>0.0</td>\n",
              "      <td>0.0</td>\n",
              "      <td>0.0</td>\n",
              "      <td>0.0</td>\n",
              "      <td>0.0</td>\n",
              "      <td>0.0</td>\n",
              "      <td>0.0</td>\n",
              "      <td>0.0</td>\n",
              "      <td>0.0</td>\n",
              "    </tr>\n",
              "    <tr>\n",
              "      <th>489</th>\n",
              "      <td>12103</td>\n",
              "      <td>2022</td>\n",
              "      <td>12</td>\n",
              "      <td>15</td>\n",
              "      <td>0.0</td>\n",
              "      <td>0.0</td>\n",
              "      <td>0.0</td>\n",
              "      <td>0.0</td>\n",
              "      <td>0.0</td>\n",
              "      <td>0.0</td>\n",
              "      <td>...</td>\n",
              "      <td>0.0</td>\n",
              "      <td>0.0</td>\n",
              "      <td>0.0</td>\n",
              "      <td>0.0</td>\n",
              "      <td>0.0</td>\n",
              "      <td>0.0</td>\n",
              "      <td>0.0</td>\n",
              "      <td>0.0</td>\n",
              "      <td>0.0</td>\n",
              "      <td>0.0</td>\n",
              "    </tr>\n",
              "    <tr>\n",
              "      <th>490</th>\n",
              "      <td>12103</td>\n",
              "      <td>2022</td>\n",
              "      <td>12</td>\n",
              "      <td>18</td>\n",
              "      <td>0.0</td>\n",
              "      <td>0.0</td>\n",
              "      <td>0.0</td>\n",
              "      <td>0.0</td>\n",
              "      <td>0.0</td>\n",
              "      <td>0.0</td>\n",
              "      <td>...</td>\n",
              "      <td>0.0</td>\n",
              "      <td>0.0</td>\n",
              "      <td>0.0</td>\n",
              "      <td>0.0</td>\n",
              "      <td>0.0</td>\n",
              "      <td>0.0</td>\n",
              "      <td>0.0</td>\n",
              "      <td>0.0</td>\n",
              "      <td>0.0</td>\n",
              "      <td>0.0</td>\n",
              "    </tr>\n",
              "    <tr>\n",
              "      <th>491</th>\n",
              "      <td>12103</td>\n",
              "      <td>2022</td>\n",
              "      <td>12</td>\n",
              "      <td>21</td>\n",
              "      <td>0.0</td>\n",
              "      <td>0.0</td>\n",
              "      <td>0.0</td>\n",
              "      <td>0.0</td>\n",
              "      <td>0.0</td>\n",
              "      <td>0.0</td>\n",
              "      <td>...</td>\n",
              "      <td>0.0</td>\n",
              "      <td>0.0</td>\n",
              "      <td>0.0</td>\n",
              "      <td>0.0</td>\n",
              "      <td>0.0</td>\n",
              "      <td>0.0</td>\n",
              "      <td>0.0</td>\n",
              "      <td>0.0</td>\n",
              "      <td>0.0</td>\n",
              "      <td>0.0</td>\n",
              "    </tr>\n",
              "  </tbody>\n",
              "</table>\n",
              "<p>5 rows × 35 columns</p>\n",
              "</div>\n",
              "      <button class=\"colab-df-convert\" onclick=\"convertToInteractive('df-539dba48-eb02-49bb-9fe4-4d03b82d1145')\"\n",
              "              title=\"Convert this dataframe to an interactive table.\"\n",
              "              style=\"display:none;\">\n",
              "        \n",
              "  <svg xmlns=\"http://www.w3.org/2000/svg\" height=\"24px\"viewBox=\"0 0 24 24\"\n",
              "       width=\"24px\">\n",
              "    <path d=\"M0 0h24v24H0V0z\" fill=\"none\"/>\n",
              "    <path d=\"M18.56 5.44l.94 2.06.94-2.06 2.06-.94-2.06-.94-.94-2.06-.94 2.06-2.06.94zm-11 1L8.5 8.5l.94-2.06 2.06-.94-2.06-.94L8.5 2.5l-.94 2.06-2.06.94zm10 10l.94 2.06.94-2.06 2.06-.94-2.06-.94-.94-2.06-.94 2.06-2.06.94z\"/><path d=\"M17.41 7.96l-1.37-1.37c-.4-.4-.92-.59-1.43-.59-.52 0-1.04.2-1.43.59L10.3 9.45l-7.72 7.72c-.78.78-.78 2.05 0 2.83L4 21.41c.39.39.9.59 1.41.59.51 0 1.02-.2 1.41-.59l7.78-7.78 2.81-2.81c.8-.78.8-2.07 0-2.86zM5.41 20L4 18.59l7.72-7.72 1.47 1.35L5.41 20z\"/>\n",
              "  </svg>\n",
              "      </button>\n",
              "      \n",
              "  <style>\n",
              "    .colab-df-container {\n",
              "      display:flex;\n",
              "      flex-wrap:wrap;\n",
              "      gap: 12px;\n",
              "    }\n",
              "\n",
              "    .colab-df-convert {\n",
              "      background-color: #E8F0FE;\n",
              "      border: none;\n",
              "      border-radius: 50%;\n",
              "      cursor: pointer;\n",
              "      display: none;\n",
              "      fill: #1967D2;\n",
              "      height: 32px;\n",
              "      padding: 0 0 0 0;\n",
              "      width: 32px;\n",
              "    }\n",
              "\n",
              "    .colab-df-convert:hover {\n",
              "      background-color: #E2EBFA;\n",
              "      box-shadow: 0px 1px 2px rgba(60, 64, 67, 0.3), 0px 1px 3px 1px rgba(60, 64, 67, 0.15);\n",
              "      fill: #174EA6;\n",
              "    }\n",
              "\n",
              "    [theme=dark] .colab-df-convert {\n",
              "      background-color: #3B4455;\n",
              "      fill: #D2E3FC;\n",
              "    }\n",
              "\n",
              "    [theme=dark] .colab-df-convert:hover {\n",
              "      background-color: #434B5C;\n",
              "      box-shadow: 0px 1px 3px 1px rgba(0, 0, 0, 0.15);\n",
              "      filter: drop-shadow(0px 1px 2px rgba(0, 0, 0, 0.3));\n",
              "      fill: #FFFFFF;\n",
              "    }\n",
              "  </style>\n",
              "\n",
              "      <script>\n",
              "        const buttonEl =\n",
              "          document.querySelector('#df-539dba48-eb02-49bb-9fe4-4d03b82d1145 button.colab-df-convert');\n",
              "        buttonEl.style.display =\n",
              "          google.colab.kernel.accessAllowed ? 'block' : 'none';\n",
              "\n",
              "        async function convertToInteractive(key) {\n",
              "          const element = document.querySelector('#df-539dba48-eb02-49bb-9fe4-4d03b82d1145');\n",
              "          const dataTable =\n",
              "            await google.colab.kernel.invokeFunction('convertToInteractive',\n",
              "                                                     [key], {});\n",
              "          if (!dataTable) return;\n",
              "\n",
              "          const docLinkHtml = 'Like what you see? Visit the ' +\n",
              "            '<a target=\"_blank\" href=https://colab.research.google.com/notebooks/data_table.ipynb>data table notebook</a>'\n",
              "            + ' to learn more about interactive tables.';\n",
              "          element.innerHTML = '';\n",
              "          dataTable['output_type'] = 'display_data';\n",
              "          await google.colab.output.renderOutput(dataTable, element);\n",
              "          const docLink = document.createElement('div');\n",
              "          docLink.innerHTML = docLinkHtml;\n",
              "          element.appendChild(docLink);\n",
              "        }\n",
              "      </script>\n",
              "    </div>\n",
              "  </div>\n",
              "  "
            ]
          },
          "metadata": {},
          "execution_count": 16
        }
      ]
    },
    {
      "cell_type": "code",
      "source": [
        "#print(\"Enter Year:\\n\")\n",
        "#year = int(input())\n",
        "#print(\"\\nEnter Month:\\n\")\n",
        "#month = int(input())\n",
        "year = 2022\n",
        "month = 4\n",
        "\n",
        "\n",
        "wn3 = select_year_and_month(year, month, rain)\n",
        "\n",
        "precipitation = np.concatenate([wn3[i] for i in wn3.columns])[40:216]\n",
        "\n",
        "augmented_precipitation = inject_data(precipitation,36)  # 36 data in 3 hours with 5 minutes time interval\n",
        "\n",
        "time = datetimeFix(4, 5, 26, 5)   # 05/04/22 to 26/04/22 with 5 miutes time interval\n",
        "\n",
        "da1 = mikeio.DataArray(data = augmented_precipitation[:96],time = time[:96], item = EUMType.Precipitation_Rate)\n",
        "\n",
        "\n",
        "\n",
        "ds = mikeio.Dataset([da1])\n",
        "ds.to_dfs(output+\"precipitation_{y}_{m}.dfs0\".format(y = year, m = month))\n",
        "\n",
        "pcio = mikeio.read(output+\"precipitation_{y}_{m}.dfs0\".format(y = year, m = month))\n",
        "\n",
        "pcio"
      ],
      "metadata": {
        "id": "mR-OpX7HR4wI",
        "colab": {
          "base_uri": "https://localhost:8080/"
        },
        "outputId": "44467834-3604-42f8-b81d-a6f4c611ab0c"
      },
      "execution_count": null,
      "outputs": [
        {
          "output_type": "execute_result",
          "data": {
            "text/plain": [
              "<mikeio.Dataset>\n",
              "dims: (time:96)\n",
              "time: 2022-04-05 00:00:00 - 2022-04-05 07:55:00 (96 records)\n",
              "geometry: GeometryUndefined()\n",
              "items:\n",
              "  0:  Precipitation Rate <Precipitation Rate> (mm per day)"
            ]
          },
          "metadata": {},
          "execution_count": 17
        }
      ]
    },
    {
      "cell_type": "code",
      "source": [
        "EUMType.Precipitation_Rate, time"
      ],
      "metadata": {
        "id": "yPAxV1MjjkTW",
        "colab": {
          "base_uri": "https://localhost:8080/"
        },
        "outputId": "a340fb7f-493e-4a98-a807-bd855fe9fd64"
      },
      "execution_count": null,
      "outputs": [
        {
          "output_type": "execute_result",
          "data": {
            "text/plain": [
              "(Precipitation Rate,\n",
              " DatetimeIndex(['2022-04-05 00:00:00', '2022-04-05 00:05:00',\n",
              "                '2022-04-05 00:10:00', '2022-04-05 00:15:00',\n",
              "                '2022-04-05 00:20:00', '2022-04-05 00:25:00',\n",
              "                '2022-04-05 00:30:00', '2022-04-05 00:35:00',\n",
              "                '2022-04-05 00:40:00', '2022-04-05 00:45:00',\n",
              "                ...\n",
              "                '2022-04-26 23:10:00', '2022-04-26 23:15:00',\n",
              "                '2022-04-26 23:20:00', '2022-04-26 23:25:00',\n",
              "                '2022-04-26 23:30:00', '2022-04-26 23:35:00',\n",
              "                '2022-04-26 23:40:00', '2022-04-26 23:45:00',\n",
              "                '2022-04-26 23:50:00', '2022-04-26 23:55:00'],\n",
              "               dtype='datetime64[ns]', length=6336, freq=None))"
            ]
          },
          "metadata": {},
          "execution_count": 18
        }
      ]
    },
    {
      "cell_type": "markdown",
      "source": [
        "#Salinity and temperature"
      ],
      "metadata": {
        "id": "AdAbQkEt4KOh"
      }
    },
    {
      "cell_type": "code",
      "source": [
        "path = [parent+i for i in os.listdir(parent) if i[:3]==\"Kor\"][0]\n",
        "path"
      ],
      "metadata": {
        "id": "jG76IUfMwUSu",
        "colab": {
          "base_uri": "https://localhost:8080/",
          "height": 35
        },
        "outputId": "30b4fe17-ddf1-4252-9f33-7e749abaacf7"
      },
      "execution_count": null,
      "outputs": [
        {
          "output_type": "execute_result",
          "data": {
            "text/plain": [
              "'drive/MyDrive/Workstation/mikeAuto/Kor050422_092401.xlsx'"
            ],
            "application/vnd.google.colaboratory.intrinsic+json": {
              "type": "string"
            }
          },
          "metadata": {},
          "execution_count": 19
        }
      ]
    },
    {
      "cell_type": "code",
      "source": [
        "data = pd.read_excel(path)\n",
        "data[\"date\"] = data['Date (MM/DD/YYYY)']\n",
        "data[\"time\"] = data['Time (HH:mm:ss)']\n",
        "data['temp'] = data['Temp °C']\n",
        "data['salinity'] = data['Sal psu']\n",
        "\n",
        "temp_ = data.drop([i for i in data.columns if i not in [\"date\", \"time\", \"temp\"]], axis = 1)\n",
        "\n",
        "temp = temp_[temp_['date']<'2022-04-27']\n",
        "\n",
        "\n",
        "salt_ = data.drop([i for i in data.columns if i not in [\"date\", \"time\", \"salinity\"]], axis = 1)\n",
        "\n",
        "salt = salt_[salt_['date']<'2022-04-27']\n",
        "\n",
        "salt"
      ],
      "metadata": {
        "id": "v9_NjPPNA9W3",
        "colab": {
          "base_uri": "https://localhost:8080/",
          "height": 423
        },
        "outputId": "a028aefb-a7cb-4e6e-dabb-db14e0f0dcf5"
      },
      "execution_count": null,
      "outputs": [
        {
          "output_type": "execute_result",
          "data": {
            "text/plain": [
              "           date      time  salinity\n",
              "0    2022-04-05  08:00:00      0.79\n",
              "1    2022-04-05  08:30:00      0.73\n",
              "2    2022-04-05  09:00:00      1.28\n",
              "3    2022-04-05  09:30:00      0.59\n",
              "4    2022-04-05  10:00:00      3.20\n",
              "...         ...       ...       ...\n",
              "1035 2022-04-26  21:30:00      2.36\n",
              "1036 2022-04-26  22:00:00      2.57\n",
              "1037 2022-04-26  22:30:00      2.60\n",
              "1038 2022-04-26  23:00:00      2.83\n",
              "1039 2022-04-26  23:30:00      2.85\n",
              "\n",
              "[1040 rows x 3 columns]"
            ],
            "text/html": [
              "\n",
              "  <div id=\"df-22ffb7a7-e70b-49e4-8aaa-abd89121bb51\">\n",
              "    <div class=\"colab-df-container\">\n",
              "      <div>\n",
              "<style scoped>\n",
              "    .dataframe tbody tr th:only-of-type {\n",
              "        vertical-align: middle;\n",
              "    }\n",
              "\n",
              "    .dataframe tbody tr th {\n",
              "        vertical-align: top;\n",
              "    }\n",
              "\n",
              "    .dataframe thead th {\n",
              "        text-align: right;\n",
              "    }\n",
              "</style>\n",
              "<table border=\"1\" class=\"dataframe\">\n",
              "  <thead>\n",
              "    <tr style=\"text-align: right;\">\n",
              "      <th></th>\n",
              "      <th>date</th>\n",
              "      <th>time</th>\n",
              "      <th>salinity</th>\n",
              "    </tr>\n",
              "  </thead>\n",
              "  <tbody>\n",
              "    <tr>\n",
              "      <th>0</th>\n",
              "      <td>2022-04-05</td>\n",
              "      <td>08:00:00</td>\n",
              "      <td>0.79</td>\n",
              "    </tr>\n",
              "    <tr>\n",
              "      <th>1</th>\n",
              "      <td>2022-04-05</td>\n",
              "      <td>08:30:00</td>\n",
              "      <td>0.73</td>\n",
              "    </tr>\n",
              "    <tr>\n",
              "      <th>2</th>\n",
              "      <td>2022-04-05</td>\n",
              "      <td>09:00:00</td>\n",
              "      <td>1.28</td>\n",
              "    </tr>\n",
              "    <tr>\n",
              "      <th>3</th>\n",
              "      <td>2022-04-05</td>\n",
              "      <td>09:30:00</td>\n",
              "      <td>0.59</td>\n",
              "    </tr>\n",
              "    <tr>\n",
              "      <th>4</th>\n",
              "      <td>2022-04-05</td>\n",
              "      <td>10:00:00</td>\n",
              "      <td>3.20</td>\n",
              "    </tr>\n",
              "    <tr>\n",
              "      <th>...</th>\n",
              "      <td>...</td>\n",
              "      <td>...</td>\n",
              "      <td>...</td>\n",
              "    </tr>\n",
              "    <tr>\n",
              "      <th>1035</th>\n",
              "      <td>2022-04-26</td>\n",
              "      <td>21:30:00</td>\n",
              "      <td>2.36</td>\n",
              "    </tr>\n",
              "    <tr>\n",
              "      <th>1036</th>\n",
              "      <td>2022-04-26</td>\n",
              "      <td>22:00:00</td>\n",
              "      <td>2.57</td>\n",
              "    </tr>\n",
              "    <tr>\n",
              "      <th>1037</th>\n",
              "      <td>2022-04-26</td>\n",
              "      <td>22:30:00</td>\n",
              "      <td>2.60</td>\n",
              "    </tr>\n",
              "    <tr>\n",
              "      <th>1038</th>\n",
              "      <td>2022-04-26</td>\n",
              "      <td>23:00:00</td>\n",
              "      <td>2.83</td>\n",
              "    </tr>\n",
              "    <tr>\n",
              "      <th>1039</th>\n",
              "      <td>2022-04-26</td>\n",
              "      <td>23:30:00</td>\n",
              "      <td>2.85</td>\n",
              "    </tr>\n",
              "  </tbody>\n",
              "</table>\n",
              "<p>1040 rows × 3 columns</p>\n",
              "</div>\n",
              "      <button class=\"colab-df-convert\" onclick=\"convertToInteractive('df-22ffb7a7-e70b-49e4-8aaa-abd89121bb51')\"\n",
              "              title=\"Convert this dataframe to an interactive table.\"\n",
              "              style=\"display:none;\">\n",
              "        \n",
              "  <svg xmlns=\"http://www.w3.org/2000/svg\" height=\"24px\"viewBox=\"0 0 24 24\"\n",
              "       width=\"24px\">\n",
              "    <path d=\"M0 0h24v24H0V0z\" fill=\"none\"/>\n",
              "    <path d=\"M18.56 5.44l.94 2.06.94-2.06 2.06-.94-2.06-.94-.94-2.06-.94 2.06-2.06.94zm-11 1L8.5 8.5l.94-2.06 2.06-.94-2.06-.94L8.5 2.5l-.94 2.06-2.06.94zm10 10l.94 2.06.94-2.06 2.06-.94-2.06-.94-.94-2.06-.94 2.06-2.06.94z\"/><path d=\"M17.41 7.96l-1.37-1.37c-.4-.4-.92-.59-1.43-.59-.52 0-1.04.2-1.43.59L10.3 9.45l-7.72 7.72c-.78.78-.78 2.05 0 2.83L4 21.41c.39.39.9.59 1.41.59.51 0 1.02-.2 1.41-.59l7.78-7.78 2.81-2.81c.8-.78.8-2.07 0-2.86zM5.41 20L4 18.59l7.72-7.72 1.47 1.35L5.41 20z\"/>\n",
              "  </svg>\n",
              "      </button>\n",
              "      \n",
              "  <style>\n",
              "    .colab-df-container {\n",
              "      display:flex;\n",
              "      flex-wrap:wrap;\n",
              "      gap: 12px;\n",
              "    }\n",
              "\n",
              "    .colab-df-convert {\n",
              "      background-color: #E8F0FE;\n",
              "      border: none;\n",
              "      border-radius: 50%;\n",
              "      cursor: pointer;\n",
              "      display: none;\n",
              "      fill: #1967D2;\n",
              "      height: 32px;\n",
              "      padding: 0 0 0 0;\n",
              "      width: 32px;\n",
              "    }\n",
              "\n",
              "    .colab-df-convert:hover {\n",
              "      background-color: #E2EBFA;\n",
              "      box-shadow: 0px 1px 2px rgba(60, 64, 67, 0.3), 0px 1px 3px 1px rgba(60, 64, 67, 0.15);\n",
              "      fill: #174EA6;\n",
              "    }\n",
              "\n",
              "    [theme=dark] .colab-df-convert {\n",
              "      background-color: #3B4455;\n",
              "      fill: #D2E3FC;\n",
              "    }\n",
              "\n",
              "    [theme=dark] .colab-df-convert:hover {\n",
              "      background-color: #434B5C;\n",
              "      box-shadow: 0px 1px 3px 1px rgba(0, 0, 0, 0.15);\n",
              "      filter: drop-shadow(0px 1px 2px rgba(0, 0, 0, 0.3));\n",
              "      fill: #FFFFFF;\n",
              "    }\n",
              "  </style>\n",
              "\n",
              "      <script>\n",
              "        const buttonEl =\n",
              "          document.querySelector('#df-22ffb7a7-e70b-49e4-8aaa-abd89121bb51 button.colab-df-convert');\n",
              "        buttonEl.style.display =\n",
              "          google.colab.kernel.accessAllowed ? 'block' : 'none';\n",
              "\n",
              "        async function convertToInteractive(key) {\n",
              "          const element = document.querySelector('#df-22ffb7a7-e70b-49e4-8aaa-abd89121bb51');\n",
              "          const dataTable =\n",
              "            await google.colab.kernel.invokeFunction('convertToInteractive',\n",
              "                                                     [key], {});\n",
              "          if (!dataTable) return;\n",
              "\n",
              "          const docLinkHtml = 'Like what you see? Visit the ' +\n",
              "            '<a target=\"_blank\" href=https://colab.research.google.com/notebooks/data_table.ipynb>data table notebook</a>'\n",
              "            + ' to learn more about interactive tables.';\n",
              "          element.innerHTML = '';\n",
              "          dataTable['output_type'] = 'display_data';\n",
              "          await google.colab.output.renderOutput(dataTable, element);\n",
              "          const docLink = document.createElement('div');\n",
              "          docLink.innerHTML = docLinkHtml;\n",
              "          element.appendChild(docLink);\n",
              "        }\n",
              "      </script>\n",
              "    </div>\n",
              "  </div>\n",
              "  "
            ]
          },
          "metadata": {},
          "execution_count": 20
        }
      ]
    },
    {
      "cell_type": "code",
      "source": [
        "len(temp.temp.values)*6"
      ],
      "metadata": {
        "colab": {
          "base_uri": "https://localhost:8080/"
        },
        "id": "-ju54djO_D90",
        "outputId": "85b4d380-d4c1-4f50-bf14-84837f936055"
      },
      "execution_count": null,
      "outputs": [
        {
          "output_type": "execute_result",
          "data": {
            "text/plain": [
              "6240"
            ]
          },
          "metadata": {},
          "execution_count": 21
        }
      ]
    },
    {
      "cell_type": "code",
      "source": [
        "data['date']"
      ],
      "metadata": {
        "id": "juhOKj7QTUL9",
        "colab": {
          "base_uri": "https://localhost:8080/"
        },
        "outputId": "6d672129-eb10-4dda-f3d3-d5525f0a948e"
      },
      "execution_count": null,
      "outputs": [
        {
          "output_type": "execute_result",
          "data": {
            "text/plain": [
              "0      2022-04-05\n",
              "1      2022-04-05\n",
              "2      2022-04-05\n",
              "3      2022-04-05\n",
              "4      2022-04-05\n",
              "          ...    \n",
              "1388   2022-05-04\n",
              "1389   2022-05-04\n",
              "1390   2022-05-04\n",
              "1391   2022-05-04\n",
              "1392   2022-05-04\n",
              "Name: date, Length: 1393, dtype: datetime64[ns]"
            ]
          },
          "metadata": {},
          "execution_count": 22
        }
      ]
    },
    {
      "cell_type": "code",
      "source": [
        "temperature = temp.temp.values\n",
        "\n",
        "augmented_temperature = inject_data(temperature,6)\n",
        "\n",
        "year = 2022\n",
        "month = 4\n",
        "\n",
        "time = datetimeFix(4, 5, 26, 5)[96:]\n",
        "\n",
        "da = mikeio.DataArray(data = augmented_temperature,time = time, item = EUMType.Temperature)\n",
        "\n",
        "ds = mikeio.Dataset([da])\n",
        "ds.to_dfs(output+\"temperature_{y}_{m}.dfs0\".format(y = year, m = month))\n",
        "\n",
        "tempio = mikeio.read(output+\"temperature_{y}_{m}.dfs0\".format(y = year, m = month))\n",
        "\n",
        "tempio"
      ],
      "metadata": {
        "id": "pOsX7BpSCelE",
        "colab": {
          "base_uri": "https://localhost:8080/"
        },
        "outputId": "0704cb99-bea8-40b8-caa3-a77aec1922ba"
      },
      "execution_count": null,
      "outputs": [
        {
          "output_type": "execute_result",
          "data": {
            "text/plain": [
              "<mikeio.Dataset>\n",
              "dims: (time:6240)\n",
              "time: 2022-04-05 08:00:00 - 2022-04-26 23:55:00 (6240 records)\n",
              "geometry: GeometryUndefined()\n",
              "items:\n",
              "  0:  Temperature <Temperature> (degree Celsius)"
            ]
          },
          "metadata": {},
          "execution_count": 23
        }
      ]
    },
    {
      "cell_type": "code",
      "source": [
        "salinity = salt.salinity.values\n",
        "\n",
        "augmented_salinity = inject_data(salinity,6)\n",
        "\n",
        "year = 2022\n",
        "month = 4\n",
        "\n",
        "time = datetimeFix(4, 5, 26, 5)[96:]\n",
        "\n",
        "da = mikeio.DataArray(data = augmented_salinity,time = time, item = EUMType.Salinity)\n",
        "\n",
        "\n",
        "\n",
        "ds = mikeio.Dataset([da])\n",
        "ds.to_dfs(output+\"salinity_{y}_{m}.dfs0\".format(y = year, m = month))\n",
        "\n",
        "saltio = mikeio.read(output+\"salinity_{y}_{m}.dfs0\".format(y = year, m = month))\n",
        "\n",
        "saltio"
      ],
      "metadata": {
        "id": "yS-m7QqOX5dt",
        "colab": {
          "base_uri": "https://localhost:8080/"
        },
        "outputId": "0b73e0ad-3936-4466-b2cc-661723558b72"
      },
      "execution_count": null,
      "outputs": [
        {
          "output_type": "execute_result",
          "data": {
            "text/plain": [
              "<mikeio.Dataset>\n",
              "dims: (time:6240)\n",
              "time: 2022-04-05 08:00:00 - 2022-04-26 23:55:00 (6240 records)\n",
              "geometry: GeometryUndefined()\n",
              "items:\n",
              "  0:  Salinity <Salinity> (PSU)"
            ]
          },
          "metadata": {},
          "execution_count": 24
        }
      ]
    },
    {
      "cell_type": "code",
      "source": [
        "time1 = pd.to_datetime(list(np.concatenate([list(np.concatenate([[datetime(2022, 4,j, i,k, 0) for k in [0,30]] for i in range(24)])) for j in range(1,31,1)])))[16:]\n",
        "\n",
        "\n",
        "time2 = pd.to_datetime([str(temp.date.values[i])+\" \"+str(temp.time.values[i]) for i in range(len(temp.date.values))])\n",
        "\n",
        "\n",
        "[str(i) for i in time1 if str(i) not in [str(j) for j in time2]]\n"
      ],
      "metadata": {
        "id": "SVwMd23KQSn1",
        "colab": {
          "base_uri": "https://localhost:8080/"
        },
        "outputId": "9f613f79-6616-4e65-d0dc-6369e3d0fe63"
      },
      "execution_count": null,
      "outputs": [
        {
          "output_type": "execute_result",
          "data": {
            "text/plain": [
              "['2022-04-01 08:00:00',\n",
              " '2022-04-01 08:30:00',\n",
              " '2022-04-01 09:00:00',\n",
              " '2022-04-01 09:30:00',\n",
              " '2022-04-01 10:00:00',\n",
              " '2022-04-01 10:30:00',\n",
              " '2022-04-01 11:00:00',\n",
              " '2022-04-01 11:30:00',\n",
              " '2022-04-01 12:00:00',\n",
              " '2022-04-01 12:30:00',\n",
              " '2022-04-01 13:00:00',\n",
              " '2022-04-01 13:30:00',\n",
              " '2022-04-01 14:00:00',\n",
              " '2022-04-01 14:30:00',\n",
              " '2022-04-01 15:00:00',\n",
              " '2022-04-01 15:30:00',\n",
              " '2022-04-01 16:00:00',\n",
              " '2022-04-01 16:30:00',\n",
              " '2022-04-01 17:00:00',\n",
              " '2022-04-01 17:30:00',\n",
              " '2022-04-01 18:00:00',\n",
              " '2022-04-01 18:30:00',\n",
              " '2022-04-01 19:00:00',\n",
              " '2022-04-01 19:30:00',\n",
              " '2022-04-01 20:00:00',\n",
              " '2022-04-01 20:30:00',\n",
              " '2022-04-01 21:00:00',\n",
              " '2022-04-01 21:30:00',\n",
              " '2022-04-01 22:00:00',\n",
              " '2022-04-01 22:30:00',\n",
              " '2022-04-01 23:00:00',\n",
              " '2022-04-01 23:30:00',\n",
              " '2022-04-02 00:00:00',\n",
              " '2022-04-02 00:30:00',\n",
              " '2022-04-02 01:00:00',\n",
              " '2022-04-02 01:30:00',\n",
              " '2022-04-02 02:00:00',\n",
              " '2022-04-02 02:30:00',\n",
              " '2022-04-02 03:00:00',\n",
              " '2022-04-02 03:30:00',\n",
              " '2022-04-02 04:00:00',\n",
              " '2022-04-02 04:30:00',\n",
              " '2022-04-02 05:00:00',\n",
              " '2022-04-02 05:30:00',\n",
              " '2022-04-02 06:00:00',\n",
              " '2022-04-02 06:30:00',\n",
              " '2022-04-02 07:00:00',\n",
              " '2022-04-02 07:30:00',\n",
              " '2022-04-02 08:00:00',\n",
              " '2022-04-02 08:30:00',\n",
              " '2022-04-02 09:00:00',\n",
              " '2022-04-02 09:30:00',\n",
              " '2022-04-02 10:00:00',\n",
              " '2022-04-02 10:30:00',\n",
              " '2022-04-02 11:00:00',\n",
              " '2022-04-02 11:30:00',\n",
              " '2022-04-02 12:00:00',\n",
              " '2022-04-02 12:30:00',\n",
              " '2022-04-02 13:00:00',\n",
              " '2022-04-02 13:30:00',\n",
              " '2022-04-02 14:00:00',\n",
              " '2022-04-02 14:30:00',\n",
              " '2022-04-02 15:00:00',\n",
              " '2022-04-02 15:30:00',\n",
              " '2022-04-02 16:00:00',\n",
              " '2022-04-02 16:30:00',\n",
              " '2022-04-02 17:00:00',\n",
              " '2022-04-02 17:30:00',\n",
              " '2022-04-02 18:00:00',\n",
              " '2022-04-02 18:30:00',\n",
              " '2022-04-02 19:00:00',\n",
              " '2022-04-02 19:30:00',\n",
              " '2022-04-02 20:00:00',\n",
              " '2022-04-02 20:30:00',\n",
              " '2022-04-02 21:00:00',\n",
              " '2022-04-02 21:30:00',\n",
              " '2022-04-02 22:00:00',\n",
              " '2022-04-02 22:30:00',\n",
              " '2022-04-02 23:00:00',\n",
              " '2022-04-02 23:30:00',\n",
              " '2022-04-03 00:00:00',\n",
              " '2022-04-03 00:30:00',\n",
              " '2022-04-03 01:00:00',\n",
              " '2022-04-03 01:30:00',\n",
              " '2022-04-03 02:00:00',\n",
              " '2022-04-03 02:30:00',\n",
              " '2022-04-03 03:00:00',\n",
              " '2022-04-03 03:30:00',\n",
              " '2022-04-03 04:00:00',\n",
              " '2022-04-03 04:30:00',\n",
              " '2022-04-03 05:00:00',\n",
              " '2022-04-03 05:30:00',\n",
              " '2022-04-03 06:00:00',\n",
              " '2022-04-03 06:30:00',\n",
              " '2022-04-03 07:00:00',\n",
              " '2022-04-03 07:30:00',\n",
              " '2022-04-03 08:00:00',\n",
              " '2022-04-03 08:30:00',\n",
              " '2022-04-03 09:00:00',\n",
              " '2022-04-03 09:30:00',\n",
              " '2022-04-03 10:00:00',\n",
              " '2022-04-03 10:30:00',\n",
              " '2022-04-03 11:00:00',\n",
              " '2022-04-03 11:30:00',\n",
              " '2022-04-03 12:00:00',\n",
              " '2022-04-03 12:30:00',\n",
              " '2022-04-03 13:00:00',\n",
              " '2022-04-03 13:30:00',\n",
              " '2022-04-03 14:00:00',\n",
              " '2022-04-03 14:30:00',\n",
              " '2022-04-03 15:00:00',\n",
              " '2022-04-03 15:30:00',\n",
              " '2022-04-03 16:00:00',\n",
              " '2022-04-03 16:30:00',\n",
              " '2022-04-03 17:00:00',\n",
              " '2022-04-03 17:30:00',\n",
              " '2022-04-03 18:00:00',\n",
              " '2022-04-03 18:30:00',\n",
              " '2022-04-03 19:00:00',\n",
              " '2022-04-03 19:30:00',\n",
              " '2022-04-03 20:00:00',\n",
              " '2022-04-03 20:30:00',\n",
              " '2022-04-03 21:00:00',\n",
              " '2022-04-03 21:30:00',\n",
              " '2022-04-03 22:00:00',\n",
              " '2022-04-03 22:30:00',\n",
              " '2022-04-03 23:00:00',\n",
              " '2022-04-03 23:30:00',\n",
              " '2022-04-04 00:00:00',\n",
              " '2022-04-04 00:30:00',\n",
              " '2022-04-04 01:00:00',\n",
              " '2022-04-04 01:30:00',\n",
              " '2022-04-04 02:00:00',\n",
              " '2022-04-04 02:30:00',\n",
              " '2022-04-04 03:00:00',\n",
              " '2022-04-04 03:30:00',\n",
              " '2022-04-04 04:00:00',\n",
              " '2022-04-04 04:30:00',\n",
              " '2022-04-04 05:00:00',\n",
              " '2022-04-04 05:30:00',\n",
              " '2022-04-04 06:00:00',\n",
              " '2022-04-04 06:30:00',\n",
              " '2022-04-04 07:00:00',\n",
              " '2022-04-04 07:30:00',\n",
              " '2022-04-04 08:00:00',\n",
              " '2022-04-04 08:30:00',\n",
              " '2022-04-04 09:00:00',\n",
              " '2022-04-04 09:30:00',\n",
              " '2022-04-04 10:00:00',\n",
              " '2022-04-04 10:30:00',\n",
              " '2022-04-04 11:00:00',\n",
              " '2022-04-04 11:30:00',\n",
              " '2022-04-04 12:00:00',\n",
              " '2022-04-04 12:30:00',\n",
              " '2022-04-04 13:00:00',\n",
              " '2022-04-04 13:30:00',\n",
              " '2022-04-04 14:00:00',\n",
              " '2022-04-04 14:30:00',\n",
              " '2022-04-04 15:00:00',\n",
              " '2022-04-04 15:30:00',\n",
              " '2022-04-04 16:00:00',\n",
              " '2022-04-04 16:30:00',\n",
              " '2022-04-04 17:00:00',\n",
              " '2022-04-04 17:30:00',\n",
              " '2022-04-04 18:00:00',\n",
              " '2022-04-04 18:30:00',\n",
              " '2022-04-04 19:00:00',\n",
              " '2022-04-04 19:30:00',\n",
              " '2022-04-04 20:00:00',\n",
              " '2022-04-04 20:30:00',\n",
              " '2022-04-04 21:00:00',\n",
              " '2022-04-04 21:30:00',\n",
              " '2022-04-04 22:00:00',\n",
              " '2022-04-04 22:30:00',\n",
              " '2022-04-04 23:00:00',\n",
              " '2022-04-04 23:30:00',\n",
              " '2022-04-05 00:00:00',\n",
              " '2022-04-05 00:30:00',\n",
              " '2022-04-05 01:00:00',\n",
              " '2022-04-05 01:30:00',\n",
              " '2022-04-05 02:00:00',\n",
              " '2022-04-05 02:30:00',\n",
              " '2022-04-05 03:00:00',\n",
              " '2022-04-05 03:30:00',\n",
              " '2022-04-05 04:00:00',\n",
              " '2022-04-05 04:30:00',\n",
              " '2022-04-05 05:00:00',\n",
              " '2022-04-05 05:30:00',\n",
              " '2022-04-05 06:00:00',\n",
              " '2022-04-05 06:30:00',\n",
              " '2022-04-05 07:00:00',\n",
              " '2022-04-05 07:30:00',\n",
              " '2022-04-27 00:00:00',\n",
              " '2022-04-27 00:30:00',\n",
              " '2022-04-27 01:00:00',\n",
              " '2022-04-27 01:30:00',\n",
              " '2022-04-27 02:00:00',\n",
              " '2022-04-27 02:30:00',\n",
              " '2022-04-27 03:00:00',\n",
              " '2022-04-27 03:30:00',\n",
              " '2022-04-27 04:00:00',\n",
              " '2022-04-27 04:30:00',\n",
              " '2022-04-27 05:00:00',\n",
              " '2022-04-27 05:30:00',\n",
              " '2022-04-27 06:00:00',\n",
              " '2022-04-27 06:30:00',\n",
              " '2022-04-27 07:00:00',\n",
              " '2022-04-27 07:30:00',\n",
              " '2022-04-27 08:00:00',\n",
              " '2022-04-27 08:30:00',\n",
              " '2022-04-27 09:00:00',\n",
              " '2022-04-27 09:30:00',\n",
              " '2022-04-27 10:00:00',\n",
              " '2022-04-27 10:30:00',\n",
              " '2022-04-27 11:00:00',\n",
              " '2022-04-27 11:30:00',\n",
              " '2022-04-27 12:00:00',\n",
              " '2022-04-27 12:30:00',\n",
              " '2022-04-27 13:00:00',\n",
              " '2022-04-27 13:30:00',\n",
              " '2022-04-27 14:00:00',\n",
              " '2022-04-27 14:30:00',\n",
              " '2022-04-27 15:00:00',\n",
              " '2022-04-27 15:30:00',\n",
              " '2022-04-27 16:00:00',\n",
              " '2022-04-27 16:30:00',\n",
              " '2022-04-27 17:00:00',\n",
              " '2022-04-27 17:30:00',\n",
              " '2022-04-27 18:00:00',\n",
              " '2022-04-27 18:30:00',\n",
              " '2022-04-27 19:00:00',\n",
              " '2022-04-27 19:30:00',\n",
              " '2022-04-27 20:00:00',\n",
              " '2022-04-27 20:30:00',\n",
              " '2022-04-27 21:00:00',\n",
              " '2022-04-27 21:30:00',\n",
              " '2022-04-27 22:00:00',\n",
              " '2022-04-27 22:30:00',\n",
              " '2022-04-27 23:00:00',\n",
              " '2022-04-27 23:30:00',\n",
              " '2022-04-28 00:00:00',\n",
              " '2022-04-28 00:30:00',\n",
              " '2022-04-28 01:00:00',\n",
              " '2022-04-28 01:30:00',\n",
              " '2022-04-28 02:00:00',\n",
              " '2022-04-28 02:30:00',\n",
              " '2022-04-28 03:00:00',\n",
              " '2022-04-28 03:30:00',\n",
              " '2022-04-28 04:00:00',\n",
              " '2022-04-28 04:30:00',\n",
              " '2022-04-28 05:00:00',\n",
              " '2022-04-28 05:30:00',\n",
              " '2022-04-28 06:00:00',\n",
              " '2022-04-28 06:30:00',\n",
              " '2022-04-28 07:00:00',\n",
              " '2022-04-28 07:30:00',\n",
              " '2022-04-28 08:00:00',\n",
              " '2022-04-28 08:30:00',\n",
              " '2022-04-28 09:00:00',\n",
              " '2022-04-28 09:30:00',\n",
              " '2022-04-28 10:00:00',\n",
              " '2022-04-28 10:30:00',\n",
              " '2022-04-28 11:00:00',\n",
              " '2022-04-28 11:30:00',\n",
              " '2022-04-28 12:00:00',\n",
              " '2022-04-28 12:30:00',\n",
              " '2022-04-28 13:00:00',\n",
              " '2022-04-28 13:30:00',\n",
              " '2022-04-28 14:00:00',\n",
              " '2022-04-28 14:30:00',\n",
              " '2022-04-28 15:00:00',\n",
              " '2022-04-28 15:30:00',\n",
              " '2022-04-28 16:00:00',\n",
              " '2022-04-28 16:30:00',\n",
              " '2022-04-28 17:00:00',\n",
              " '2022-04-28 17:30:00',\n",
              " '2022-04-28 18:00:00',\n",
              " '2022-04-28 18:30:00',\n",
              " '2022-04-28 19:00:00',\n",
              " '2022-04-28 19:30:00',\n",
              " '2022-04-28 20:00:00',\n",
              " '2022-04-28 20:30:00',\n",
              " '2022-04-28 21:00:00',\n",
              " '2022-04-28 21:30:00',\n",
              " '2022-04-28 22:00:00',\n",
              " '2022-04-28 22:30:00',\n",
              " '2022-04-28 23:00:00',\n",
              " '2022-04-28 23:30:00',\n",
              " '2022-04-29 00:00:00',\n",
              " '2022-04-29 00:30:00',\n",
              " '2022-04-29 01:00:00',\n",
              " '2022-04-29 01:30:00',\n",
              " '2022-04-29 02:00:00',\n",
              " '2022-04-29 02:30:00',\n",
              " '2022-04-29 03:00:00',\n",
              " '2022-04-29 03:30:00',\n",
              " '2022-04-29 04:00:00',\n",
              " '2022-04-29 04:30:00',\n",
              " '2022-04-29 05:00:00',\n",
              " '2022-04-29 05:30:00',\n",
              " '2022-04-29 06:00:00',\n",
              " '2022-04-29 06:30:00',\n",
              " '2022-04-29 07:00:00',\n",
              " '2022-04-29 07:30:00',\n",
              " '2022-04-29 08:00:00',\n",
              " '2022-04-29 08:30:00',\n",
              " '2022-04-29 09:00:00',\n",
              " '2022-04-29 09:30:00',\n",
              " '2022-04-29 10:00:00',\n",
              " '2022-04-29 10:30:00',\n",
              " '2022-04-29 11:00:00',\n",
              " '2022-04-29 11:30:00',\n",
              " '2022-04-29 12:00:00',\n",
              " '2022-04-29 12:30:00',\n",
              " '2022-04-29 13:00:00',\n",
              " '2022-04-29 13:30:00',\n",
              " '2022-04-29 14:00:00',\n",
              " '2022-04-29 14:30:00',\n",
              " '2022-04-29 15:00:00',\n",
              " '2022-04-29 15:30:00',\n",
              " '2022-04-29 16:00:00',\n",
              " '2022-04-29 16:30:00',\n",
              " '2022-04-29 17:00:00',\n",
              " '2022-04-29 17:30:00',\n",
              " '2022-04-29 18:00:00',\n",
              " '2022-04-29 18:30:00',\n",
              " '2022-04-29 19:00:00',\n",
              " '2022-04-29 19:30:00',\n",
              " '2022-04-29 20:00:00',\n",
              " '2022-04-29 20:30:00',\n",
              " '2022-04-29 21:00:00',\n",
              " '2022-04-29 21:30:00',\n",
              " '2022-04-29 22:00:00',\n",
              " '2022-04-29 22:30:00',\n",
              " '2022-04-29 23:00:00',\n",
              " '2022-04-29 23:30:00',\n",
              " '2022-04-30 00:00:00',\n",
              " '2022-04-30 00:30:00',\n",
              " '2022-04-30 01:00:00',\n",
              " '2022-04-30 01:30:00',\n",
              " '2022-04-30 02:00:00',\n",
              " '2022-04-30 02:30:00',\n",
              " '2022-04-30 03:00:00',\n",
              " '2022-04-30 03:30:00',\n",
              " '2022-04-30 04:00:00',\n",
              " '2022-04-30 04:30:00',\n",
              " '2022-04-30 05:00:00',\n",
              " '2022-04-30 05:30:00',\n",
              " '2022-04-30 06:00:00',\n",
              " '2022-04-30 06:30:00',\n",
              " '2022-04-30 07:00:00',\n",
              " '2022-04-30 07:30:00',\n",
              " '2022-04-30 08:00:00',\n",
              " '2022-04-30 08:30:00',\n",
              " '2022-04-30 09:00:00',\n",
              " '2022-04-30 09:30:00',\n",
              " '2022-04-30 10:00:00',\n",
              " '2022-04-30 10:30:00',\n",
              " '2022-04-30 11:00:00',\n",
              " '2022-04-30 11:30:00',\n",
              " '2022-04-30 12:00:00',\n",
              " '2022-04-30 12:30:00',\n",
              " '2022-04-30 13:00:00',\n",
              " '2022-04-30 13:30:00',\n",
              " '2022-04-30 14:00:00',\n",
              " '2022-04-30 14:30:00',\n",
              " '2022-04-30 15:00:00',\n",
              " '2022-04-30 15:30:00',\n",
              " '2022-04-30 16:00:00',\n",
              " '2022-04-30 16:30:00',\n",
              " '2022-04-30 17:00:00',\n",
              " '2022-04-30 17:30:00',\n",
              " '2022-04-30 18:00:00',\n",
              " '2022-04-30 18:30:00',\n",
              " '2022-04-30 19:00:00',\n",
              " '2022-04-30 19:30:00',\n",
              " '2022-04-30 20:00:00',\n",
              " '2022-04-30 20:30:00',\n",
              " '2022-04-30 21:00:00',\n",
              " '2022-04-30 21:30:00',\n",
              " '2022-04-30 22:00:00',\n",
              " '2022-04-30 22:30:00',\n",
              " '2022-04-30 23:00:00',\n",
              " '2022-04-30 23:30:00']"
            ]
          },
          "metadata": {},
          "execution_count": 25
        }
      ]
    },
    {
      "cell_type": "code",
      "source": [
        "time2"
      ],
      "metadata": {
        "id": "Nj5upFV5a_LS",
        "colab": {
          "base_uri": "https://localhost:8080/"
        },
        "outputId": "7c125c74-fbda-4728-a764-effb7b0f389c"
      },
      "execution_count": null,
      "outputs": [
        {
          "output_type": "execute_result",
          "data": {
            "text/plain": [
              "DatetimeIndex(['2022-04-05 08:00:00', '2022-04-05 08:30:00',\n",
              "               '2022-04-05 09:00:00', '2022-04-05 09:30:00',\n",
              "               '2022-04-05 10:00:00', '2022-04-05 10:30:00',\n",
              "               '2022-04-05 11:00:00', '2022-04-05 11:30:00',\n",
              "               '2022-04-05 12:00:00', '2022-04-05 12:30:00',\n",
              "               ...\n",
              "               '2022-04-26 19:00:00', '2022-04-26 19:30:00',\n",
              "               '2022-04-26 20:00:00', '2022-04-26 20:30:00',\n",
              "               '2022-04-26 21:00:00', '2022-04-26 21:30:00',\n",
              "               '2022-04-26 22:00:00', '2022-04-26 22:30:00',\n",
              "               '2022-04-26 23:00:00', '2022-04-26 23:30:00'],\n",
              "              dtype='datetime64[ns]', length=1040, freq=None)"
            ]
          },
          "metadata": {},
          "execution_count": 26
        }
      ]
    }
  ]
}